{
 "cells": [
  {
   "cell_type": "markdown",
   "metadata": {
    "extensions": {
     "jupyter_dashboards": {
      "version": 1,
      "views": {
       "grid_default": {
        "col": 0,
        "height": 10,
        "hidden": false,
        "row": 0,
        "width": 12
       },
       "report_default": {
        "hidden": false
       }
      }
     }
    }
   },
   "source": [
    "This is the <a href=\"https://jupyter.org/\">Jupyter Notebook</a>, an interactive coding and computation environment. For this lab, you do not have to write any code, you will only be running it. \n",
    "\n",
    "To use the notebook:\n",
    "- \"Shift + Enter\" runs the code within the cell (so does the forward arrow button near the top of the document)\n",
    "- You can alter variables and re-run cells\n",
    "- If you want to start with a clean slate, restart the Kernel either by going to the top, clicking on Kernel: Restart, or by \"esc + 00\" (if you do this, you will need to re-run the following block of code before running any other cells in the notebook) \n",
    "\n",
    "This notebook uses code adapted from \n",
    "\n",
    "SimPEG\n",
    "- Cockett, R., S. Kang, L.J. Heagy, A. Pidlisecky, D.W. Oldenburg (2015, in review), SimPEG: An open source framework for simulation and gradient based parameter estimation in geophysical applications. Computers and Geosciences\n"
   ]
  },
  {
   "cell_type": "markdown",
   "metadata": {
    "extensions": {
     "jupyter_dashboards": {
      "version": 1,
      "views": {
       "grid_default": {
        "col": 0,
        "height": 11,
        "hidden": false,
        "row": 10,
        "width": 6
       },
       "report_default": {}
      }
     }
    }
   },
   "source": [
    "## Part 1 - View the model and caclulate magnetic data\n",
    "\n",
    "- dx, dy, dz: thickness of prism in (x,y,z)-direction\n",
    "- depth: depth to the top of the prism (m)\n",
    "- pinc: inclination of the prism \n",
    "- pdec: declination of the prism (reference is a unit northing vector; degrees)\n",
    "- npts2D: number of points\n",
    "- xylim: limits of the plot in x and y (m)\n",
    "- rx_h: height of the magnetometer (m)\n",
    "- View_elev: elevation of view (degrees)\n",
    "- View_azim: azimuth of view (degrees)\n",
    "- susc: susceptibility of the prism\n",
    "- Binc: Inclination of the incident field\n",
    "- Bdec: Declination of the incident field\n",
    "- Bigrf: Magnitude of the incident field\n",
    "\n",
    "### Note that the view angles may be deceptive.  I recommend you set it to View_elev=90 to look down from above and/or look at xz and yz cross-sections via View_elev=0, view_azim=0, 90"
   ]
  },
  {
   "cell_type": "code",
   "execution_count": 4,
   "metadata": {},
   "outputs": [],
   "source": [
    "from importMag import *\n",
    "%matplotlib inline"
   ]
  },
  {
   "cell_type": "code",
   "execution_count": 5,
   "metadata": {},
   "outputs": [
    {
     "data": {
      "application/vnd.jupyter.widget-view+json": {
       "model_id": "657a5d0633954df9a38d16a5b9c79838",
       "version_major": 2,
       "version_minor": 0
      },
      "text/plain": [
       "interactive(children=(FloatSlider(value=120.0, continuous_update=False, description='dx', max=500.0, min=0.000…"
      ]
     },
     "metadata": {},
     "output_type": "display_data"
    }
   ],
   "source": [
    "Mag.ViewPrismAndData()"
   ]
  },
  {
   "cell_type": "markdown",
   "metadata": {},
   "source": [
    "# Now fit the Valentine Lake magnetics and gravity data\n",
    "\n",
    "For each prism, you have the following parameters:\n",
    "\n",
    "- width: extent in x (m)\n",
    "- thick: extent in z (m) (at 0 inclination)\n",
    "- xpos: position of center in x (m)\n",
    "- depth: depth of center (m)\n",
    "- susc: Magnetic Susceptibility\n",
    "- rho: density contrast (kg/m^3)\n",
    "\n",
    "### You can start using the cross-section provided in the lab document. However, feel free to modify the shape, size, and inclination of each prism as you wish. A good starting point is to set the values of susceptibility and density first\n",
    "\n",
    "Only a 2D slice at y=0 is shown as these are the only data that are available.  The prisms have been set to extend far out in the y-direction to mimic a 2D Earth.  The Earth's magnetic field has also been set to the appropriate inclination and declination for the Valentine Lake location.\n"
   ]
  },
  {
   "cell_type": "code",
   "execution_count": 6,
   "metadata": {},
   "outputs": [
    {
     "data": {
      "application/vnd.jupyter.widget-view+json": {
       "model_id": "6fc4f43565a44a5eae73fa3a3d95d344",
       "version_major": 2,
       "version_minor": 0
      },
      "text/plain": [
       "interactive(children=(FloatSlider(value=20.0, continuous_update=False, description='width1', max=750.0, min=0.…"
      ]
     },
     "metadata": {},
     "output_type": "display_data"
    }
   ],
   "source": [
    "Mag.FitGravMagData()"
   ]
  },
  {
   "cell_type": "code",
   "execution_count": null,
   "metadata": {},
   "outputs": [],
   "source": []
  }
 ],
 "metadata": {
  "anaconda-cloud": {},
  "extensions": {
   "jupyter_dashboards": {
    "activeView": "grid_default",
    "version": 1,
    "views": {
     "grid_default": {
      "cellMargin": 10,
      "defaultCellHeight": 20,
      "maxColumns": 12,
      "name": "grid",
      "type": "grid"
     },
     "report_default": {
      "name": "report",
      "type": "report"
     }
    }
   }
  },
  "kernelspec": {
   "display_name": "Python 3",
   "language": "python",
   "name": "python3"
  },
  "language_info": {
   "codemirror_mode": {
    "name": "ipython",
    "version": 3
   },
   "file_extension": ".py",
   "mimetype": "text/x-python",
   "name": "python",
   "nbconvert_exporter": "python",
   "pygments_lexer": "ipython3",
   "version": "3.7.1"
  },
  "widgets": {
   "state": {
    "739d5b9071f64a96a9d7e85f646d0097": {
     "views": [
      {
       "cell_index": 5
      }
     ]
    },
    "a3b5f6eee5334a5c8eaa3c1bf703de47": {
     "views": [
      {
       "cell_index": 3
      }
     ]
    }
   },
   "version": "1.2.0"
  }
 },
 "nbformat": 4,
 "nbformat_minor": 4
}
